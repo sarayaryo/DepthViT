{
 "cells": [
  {
   "cell_type": "code",
   "execution_count": 5,
   "id": "7f993691",
   "metadata": {},
   "outputs": [
    {
     "name": "stdout",
     "output_type": "stream",
     "text": [
      "共通するパスの数: 12\n",
      "common_images に共通画像をコピーしました。\n"
     ]
    }
   ],
   "source": [
    "import pandas as pd\n",
    "import shutil\n",
    "import os\n",
    "\n",
    "# 1) CSV の読み込み\n",
    "df_wrong_A   = pd.read_csv(r'important_data\\0529 latefusion\\wrong_images.csv')    # wrong_images_A.csv に \"path\" カラムがある想定\n",
    "df_correct_B = pd.read_csv(r'important_data\\0529 sharefusion\\correct_images.csv')  # correct_images_B.csv に \"path\" カラムがある想定\n",
    "\n",
    "# 2) 共通の path をセットとして取得\n",
    "paths_wrong   = set(df_wrong_A['path'])\n",
    "paths_correct = set(df_correct_B['path'])\n",
    "common_paths  = paths_wrong & paths_correct\n",
    "\n",
    "print(f\"共通するパスの数: {len(common_paths)}\")\n",
    "\n",
    "# 3) DataFrame 上で絞り込み（必要なら）\n",
    "df_common_from_wrong   = df_wrong_A[df_wrong_A['path'].isin(common_paths)]\n",
    "df_common_from_correct = df_correct_B[df_correct_B['path'].isin(common_paths)]\n",
    "\n",
    "# 4) （オプション）共通画像だけをフォルダにコピー\n",
    "output_dir = 'common_images'\n",
    "os.makedirs(output_dir, exist_ok=True)\n",
    "\n",
    "for p in common_paths:\n",
    "    # ファイルが存在するかチェック\n",
    "    if os.path.isfile(p):\n",
    "        shutil.copy(p, output_dir)\n",
    "    else:\n",
    "        print(f\"ファイルが見つかりません: {p}\")\n",
    "\n",
    "print(f\"{output_dir} に共通画像をコピーしました。\")\n"
   ]
  },
  {
   "cell_type": "code",
   "execution_count": null,
   "id": "15226cf7",
   "metadata": {},
   "outputs": [],
   "source": []
  }
 ],
 "metadata": {
  "kernelspec": {
   "display_name": "base",
   "language": "python",
   "name": "python3"
  },
  "language_info": {
   "codemirror_mode": {
    "name": "ipython",
    "version": 3
   },
   "file_extension": ".py",
   "mimetype": "text/x-python",
   "name": "python",
   "nbconvert_exporter": "python",
   "pygments_lexer": "ipython3",
   "version": "3.12.4"
  }
 },
 "nbformat": 4,
 "nbformat_minor": 5
}
